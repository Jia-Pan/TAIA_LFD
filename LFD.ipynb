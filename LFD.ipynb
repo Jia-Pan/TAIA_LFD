{
 "cells": [
  {
   "cell_type": "code",
   "execution_count": 69,
   "metadata": {},
   "outputs": [],
   "source": [
    "import tensorflow as tf\n",
    "import pandas as pd\n",
    "import numpy as np\n",
    "import os \n",
    "from tensorflow.keras.callbacks import EarlyStopping, TensorBoard\n",
    "from sklearn.preprocessing import MinMaxScaler\n",
    "from time import time\n",
    "from sklearn.metrics import *\n",
    "from sklearn.ensemble import RandomForestClassifier\n",
    "from sklearn.naive_bayes import GaussianNB\n",
    "from sklearn.linear_model import LinearRegression\n",
    "from tensorflow.keras.models import Sequential \n",
    "from tensorflow.keras.layers import Dense\n",
    "from tensorflow.keras.datasets import mnist\n",
    "from tensorflow.keras.utils import to_categorical"
   ]
  },
  {
   "cell_type": "code",
   "execution_count": 2,
   "metadata": {},
   "outputs": [
    {
     "data": {
      "text/plain": [
       "[PhysicalDevice(name='/physical_device:GPU:0', device_type='GPU')]"
      ]
     },
     "execution_count": 2,
     "metadata": {},
     "output_type": "execute_result"
    }
   ],
   "source": [
    "tf.config.list_physical_devices('GPU')"
   ]
  },
  {
   "cell_type": "code",
   "execution_count": 3,
   "metadata": {},
   "outputs": [
    {
     "name": "stdout",
     "output_type": "stream",
     "text": [
      "Downloading data from https://storage.googleapis.com/tensorflow/tf-keras-datasets/mnist.npz\n",
      "11493376/11490434 [==============================] - 2s 0us/step\n"
     ]
    }
   ],
   "source": [
    "(x_train, y_train), (x_test, y_test) = mnist.load_data()"
   ]
  },
  {
   "cell_type": "code",
   "execution_count": 6,
   "metadata": {},
   "outputs": [
    {
     "data": {
      "text/plain": [
       "(60000, 28, 28)"
      ]
     },
     "execution_count": 6,
     "metadata": {},
     "output_type": "execute_result"
    }
   ],
   "source": [
    "x_train.shape\n",
    "x_test.shape"
   ]
  },
  {
   "cell_type": "code",
   "execution_count": 7,
   "metadata": {},
   "outputs": [
    {
     "name": "stdout",
     "output_type": "stream",
     "text": [
      "(60000, 784)\n",
      "(10000, 784)\n"
     ]
    }
   ],
   "source": [
    "x_train = x_train.reshape((60000,-1))\n",
    "print(x_train.shape)\n",
    "\n",
    "x_test = x_test.reshape((10000,-1))\n",
    "print(x_test.shape)\n"
   ]
  },
  {
   "cell_type": "code",
   "execution_count": 8,
   "metadata": {},
   "outputs": [
    {
     "name": "stdout",
     "output_type": "stream",
     "text": [
      "[[0 0 0 ... 0 0 0]\n",
      " [0 0 0 ... 0 0 0]\n",
      " [0 0 0 ... 0 0 0]\n",
      " ...\n",
      " [0 0 0 ... 0 0 0]\n",
      " [0 0 0 ... 0 0 0]\n",
      " [0 0 0 ... 0 0 0]]\n"
     ]
    }
   ],
   "source": [
    "print(x_train)"
   ]
  },
  {
   "cell_type": "code",
   "execution_count": 9,
   "metadata": {},
   "outputs": [],
   "source": [
    "scaler = MinMaxScaler()\n",
    "x_train = scaler.fit_transform(x_train)\n",
    "x_test = scaler.transform(x_test)"
   ]
  },
  {
   "cell_type": "code",
   "execution_count": 78,
   "metadata": {},
   "outputs": [],
   "source": [
    "model = Sequential()\n",
    "\n",
    "model.add(Dense(256, activation='relu', input_shape=(784,)))\n",
    "model.add(Dense(128, activation='relu'))\n",
    "model.add(Dense(64, activation='relu'))\n",
    "model.add(Dense(64, activation='relu'))\n",
    "model.add(Dense(64, activation='relu'))\n",
    "model.add(Dense(32, activation='relu'))\n",
    "model.add(Dense(10, activation='softmax'))\n",
    "\n",
    "model.compile(loss='sparse_categorical_crossentropy', optimizer='adam', metrics=['acc'])"
   ]
  },
  {
   "cell_type": "code",
   "execution_count": 79,
   "metadata": {},
   "outputs": [
    {
     "name": "stdout",
     "output_type": "stream",
     "text": [
      "Train on 60000 samples\n",
      "Epoch 1/50\n",
      "60000/60000 [==============================] - 7s 122us/sample - loss: 0.2625 - acc: 0.9202\n",
      "Epoch 2/50\n",
      "60000/60000 [==============================] - 7s 114us/sample - loss: 0.1091 - acc: 0.9672\n",
      "Epoch 3/50\n",
      "60000/60000 [==============================] - 7s 123us/sample - loss: 0.0812 - acc: 0.9765\n",
      "Epoch 4/50\n",
      "60000/60000 [==============================] - 7s 117us/sample - loss: 0.0658 - acc: 0.9805\n",
      "Epoch 5/50\n",
      "60000/60000 [==============================] - 7s 116us/sample - loss: 0.0537 - acc: 0.9839\n",
      "Epoch 6/50\n",
      "60000/60000 [==============================] - 7s 116us/sample - loss: 0.0439 - acc: 0.9862\n",
      "Epoch 7/50\n",
      "60000/60000 [==============================] - 7s 114us/sample - loss: 0.0398 - acc: 0.9884\n",
      "Epoch 8/50\n",
      "60000/60000 [==============================] - 7s 111us/sample - loss: 0.0334 - acc: 0.9900\n",
      "Epoch 9/50\n",
      "60000/60000 [==============================] - 7s 113us/sample - loss: 0.0296 - acc: 0.9913\n",
      "Epoch 10/50\n",
      "60000/60000 [==============================] - 7s 120us/sample - loss: 0.0275 - acc: 0.9916\n",
      "Epoch 11/50\n",
      "60000/60000 [==============================] - 7s 115us/sample - loss: 0.0251 - acc: 0.9928\n",
      "Epoch 12/50\n",
      "60000/60000 [==============================] - 7s 119us/sample - loss: 0.0220 - acc: 0.9938\n",
      "Epoch 13/50\n",
      "60000/60000 [==============================] - 7s 119us/sample - loss: 0.0203 - acc: 0.9943\n",
      "Epoch 14/50\n",
      "60000/60000 [==============================] - 7s 117us/sample - loss: 0.0198 - acc: 0.9944\n",
      "Epoch 15/50\n",
      "60000/60000 [==============================] - 7s 120us/sample - loss: 0.0179 - acc: 0.9950\n",
      "Epoch 16/50\n",
      "60000/60000 [==============================] - 7s 122us/sample - loss: 0.0175 - acc: 0.9951\n",
      "Epoch 17/50\n",
      "60000/60000 [==============================] - 7s 121us/sample - loss: 0.0167 - acc: 0.9953\n",
      "Epoch 18/50\n",
      "60000/60000 [==============================] - 7s 118us/sample - loss: 0.0158 - acc: 0.9955\n",
      "Epoch 19/50\n",
      "60000/60000 [==============================] - 8s 130us/sample - loss: 0.0148 - acc: 0.9961\n",
      "Epoch 20/50\n",
      "60000/60000 [==============================] - 7s 116us/sample - loss: 0.0117 - acc: 0.9969\n",
      "Epoch 21/50\n",
      "60000/60000 [==============================] - 7s 113us/sample - loss: 0.0150 - acc: 0.9960\n",
      "Epoch 22/50\n",
      "60000/60000 [==============================] - 7s 114us/sample - loss: 0.0130 - acc: 0.9966\n"
     ]
    },
    {
     "data": {
      "text/plain": [
       "<tensorflow.python.keras.callbacks.History at 0x201b55d97c8>"
      ]
     },
     "execution_count": 79,
     "metadata": {},
     "output_type": "execute_result"
    }
   ],
   "source": [
    "name = \".\\\\logs\"\n",
    "logdir = os.path.join('logs')\n",
    "batch_size = 32\n",
    "es = EarlyStopping(monitor='loss', patience=2, restore_best_weights=True)\n",
    "tb = TensorBoard(log_dir=name,profile_batch = 100000000, histogram_freq=0, write_images=True)\n",
    "callbacks = [es,tb]\n",
    "model.fit(x_train,y_train,epochs=50, batch_size=batch_size, callbacks=callbacks)"
   ]
  },
  {
   "cell_type": "code",
   "execution_count": 77,
   "metadata": {},
   "outputs": [
    {
     "data": {
      "text/plain": [
       "ERROR: Timed out waiting for TensorBoard to start. It may still be running as pid 1912."
      ]
     },
     "metadata": {},
     "output_type": "display_data"
    }
   ],
   "source": [
    "%load_ext tensorboard\n",
    "%tensorboard --logdir logs/fit\n"
   ]
  },
  {
   "cell_type": "code",
   "execution_count": 48,
   "metadata": {},
   "outputs": [
    {
     "name": "stdout",
     "output_type": "stream",
     "text": [
      "10000/10000 [==============================] - 1s 80us/sample - loss: 0.1064 - acc: 0.9742\n"
     ]
    },
    {
     "data": {
      "text/plain": [
       "[0.10635768901547417, 0.9742]"
      ]
     },
     "execution_count": 48,
     "metadata": {},
     "output_type": "execute_result"
    }
   ],
   "source": [
    "model.evaluate(x_test,y_test)"
   ]
  },
  {
   "cell_type": "code",
   "execution_count": 54,
   "metadata": {},
   "outputs": [
    {
     "name": "stdout",
     "output_type": "stream",
     "text": [
      "0.5544\n"
     ]
    }
   ],
   "source": [
    "nb = GaussianNB()\n",
    "nb.fit(x_train,y_train)\n",
    "y_pred = nb.predict(x_test)\n",
    "print(accuracy_score(y_test,y_pred))"
   ]
  },
  {
   "cell_type": "code",
   "execution_count": 58,
   "metadata": {},
   "outputs": [
    {
     "name": "stdout",
     "output_type": "stream",
     "text": [
      "0.9695\n"
     ]
    }
   ],
   "source": [
    "rf = RandomForestClassifier(n_estimators=100)\n",
    "rf.fit(x_train,y_train)\n",
    "y_pred = rf.predict(x_test)\n",
    "print(accuracy_score(y_test,y_pred))"
   ]
  },
  {
   "cell_type": "code",
   "execution_count": null,
   "metadata": {},
   "outputs": [],
   "source": [
    "aph=True, write_grads=False, write_images=False, embeddings_freq=0, embeddings_layer_names=None, embeddings_metadata=None, embeddings_data=None, update_freq='epoch')"
   ]
  }
 ],
 "metadata": {
  "kernelspec": {
   "display_name": "Python 3",
   "language": "python",
   "name": "python3"
  },
  "language_info": {
   "codemirror_mode": {
    "name": "ipython",
    "version": 3
   },
   "file_extension": ".py",
   "mimetype": "text/x-python",
   "name": "python",
   "nbconvert_exporter": "python",
   "pygments_lexer": "ipython3",
   "version": "3.7.6"
  }
 },
 "nbformat": 4,
 "nbformat_minor": 4
}
