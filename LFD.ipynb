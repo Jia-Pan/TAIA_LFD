{
 "cells": [
  {
   "cell_type": "code",
   "execution_count": 2,
   "metadata": {},
   "outputs": [],
   "source": [
    "import tensorflow as tf\n",
    "import pandas as pd\n",
    "import numpy as np\n",
    "import os \n",
    "import matplotlib.pyplot as plt\n",
    "import seaborn as sn\n",
    "from sklearn.feature_selection import SelectKBest\n",
    "from sklearn.model_selection import train_test_split\n",
    "from tensorflow.keras.utils import to_categorical\n",
    "from tensorflow.keras.callbacks import EarlyStopping, TensorBoard\n",
    "from sklearn.preprocessing import MinMaxScaler\n",
    "from time import time\n",
    "from sklearn.metrics import *\n",
    "from sklearn.metrics import confusion_matrix\n",
    "from sklearn.ensemble import RandomForestClassifier\n",
    "from sklearn.naive_bayes import GaussianNB\n",
    "from sklearn.linear_model import LinearRegression\n",
    "from tensorflow.keras.models import Sequential \n",
    "from tensorflow.keras.layers import Dense\n",
    "from tensorflow.keras.datasets import mnist\n",
    "from tensorflow.keras.utils import to_categorical"
   ]
  },
  {
   "cell_type": "code",
   "execution_count": 50,
   "metadata": {},
   "outputs": [],
   "source": [
    "def cfm_plot(y_true,y_pred):\n",
    "    plt.figure(figsize=(6,6))\n",
    "    cm = confusion_matrix(y_true,y_pred)\n",
    "    #cm = cm.astype('float') / cm.sum(axis=1)[:, np.newaxis]\n",
    "    df = pd.DataFrame(cm)\n",
    "    df = df.applymap(lambda x : round(x,2))\n",
    "    #plt.imshow(df, cmap='hot', interpolation='nearest')\n",
    "    sn.heatmap(df,annot = True,annot_kws={\"size\": 12})\n",
    "    plt.show()"
   ]
  },
  {
   "cell_type": "code",
   "execution_count": 4,
   "metadata": {},
   "outputs": [],
   "source": [
    "(x_train, y_train), (x_test, y_test) = mnist.load_data()"
   ]
  },
  {
   "cell_type": "code",
   "execution_count": 5,
   "metadata": {},
   "outputs": [
    {
     "data": {
      "text/plain": [
       "(10000, 28, 28)"
      ]
     },
     "execution_count": 5,
     "metadata": {},
     "output_type": "execute_result"
    }
   ],
   "source": [
    "x_train.shape\n",
    "x_test.shape"
   ]
  },
  {
   "cell_type": "code",
   "execution_count": 6,
   "metadata": {},
   "outputs": [
    {
     "name": "stdout",
     "output_type": "stream",
     "text": [
      "(60000, 784)\n",
      "(10000, 784)\n"
     ]
    }
   ],
   "source": [
    "x_train = x_train.reshape((60000,-1))\n",
    "print(x_train.shape)\n",
    "\n",
    "x_test = x_test.reshape((10000,-1))\n",
    "print(x_test.shape)\n"
   ]
  },
  {
   "cell_type": "code",
   "execution_count": 7,
   "metadata": {},
   "outputs": [
    {
     "name": "stdout",
     "output_type": "stream",
     "text": [
      "[[0 0 0 ... 0 0 0]\n",
      " [0 0 0 ... 0 0 0]\n",
      " [0 0 0 ... 0 0 0]\n",
      " ...\n",
      " [0 0 0 ... 0 0 0]\n",
      " [0 0 0 ... 0 0 0]\n",
      " [0 0 0 ... 0 0 0]]\n"
     ]
    }
   ],
   "source": [
    "print(x_train)"
   ]
  },
  {
   "cell_type": "code",
   "execution_count": 8,
   "metadata": {},
   "outputs": [],
   "source": [
    "scaler = MinMaxScaler()\n",
    "x_train = scaler.fit_transform(x_train)\n",
    "x_test = scaler.transform(x_test)"
   ]
  },
  {
   "cell_type": "code",
   "execution_count": 9,
   "metadata": {},
   "outputs": [],
   "source": [
    "model = Sequential()\n",
    "\n",
    "model.add(Dense(256, activation='relu', input_shape=(784,)))\n",
    "model.add(Dense(128, activation='relu'))\n",
    "model.add(Dense(64, activation='relu'))\n",
    "model.add(Dense(64, activation='relu'))\n",
    "model.add(Dense(64, activation='relu'))\n",
    "model.add(Dense(32, activation='relu'))\n",
    "model.add(Dense(10, activation='softmax'))\n",
    "\n",
    "model.compile(loss='sparse_categorical_crossentropy', optimizer='adam', metrics=['acc'])"
   ]
  },
  {
   "cell_type": "code",
   "execution_count": 10,
   "metadata": {},
   "outputs": [
    {
     "name": "stdout",
     "output_type": "stream",
     "text": [
      "Train on 60000 samples\n",
      "Epoch 1/50\n",
      "60000/60000 [==============================] - 6s 103us/sample - loss: 0.2512 - acc: 0.9243\n",
      "Epoch 2/50\n",
      "60000/60000 [==============================] - 6s 94us/sample - loss: 0.1085 - acc: 0.9683\n",
      "Epoch 3/50\n",
      "60000/60000 [==============================] - 5s 91us/sample - loss: 0.0797 - acc: 0.9757\n",
      "Epoch 4/50\n",
      "60000/60000 [==============================] - 6s 92us/sample - loss: 0.0650 - acc: 0.9812\n",
      "Epoch 5/50\n",
      "60000/60000 [==============================] - 6s 94us/sample - loss: 0.0533 - acc: 0.9839\n",
      "Epoch 6/50\n",
      "60000/60000 [==============================] - 6s 95us/sample - loss: 0.0449 - acc: 0.9863\n",
      "Epoch 7/50\n",
      "60000/60000 [==============================] - 6s 93us/sample - loss: 0.0399 - acc: 0.9880\n",
      "Epoch 8/50\n",
      "60000/60000 [==============================] - 6s 95us/sample - loss: 0.0335 - acc: 0.9903\n",
      "Epoch 9/50\n",
      "60000/60000 [==============================] - 6s 93us/sample - loss: 0.0320 - acc: 0.9907\n",
      "Epoch 10/50\n",
      "60000/60000 [==============================] - 6s 93us/sample - loss: 0.0277 - acc: 0.9916\n",
      "Epoch 11/50\n",
      "60000/60000 [==============================] - 6s 95us/sample - loss: 0.0255 - acc: 0.9925\n",
      "Epoch 12/50\n",
      "60000/60000 [==============================] - 6s 92us/sample - loss: 0.0226 - acc: 0.9938\n",
      "Epoch 13/50\n",
      "60000/60000 [==============================] - 6s 95us/sample - loss: 0.0208 - acc: 0.9943\n",
      "Epoch 14/50\n",
      "60000/60000 [==============================] - 6s 93us/sample - loss: 0.0229 - acc: 0.9937\n",
      "Epoch 15/50\n",
      "60000/60000 [==============================] - 6s 95us/sample - loss: 0.0171 - acc: 0.9953\n",
      "Epoch 16/50\n",
      "60000/60000 [==============================] - 6s 95us/sample - loss: 0.0183 - acc: 0.9948\n",
      "Epoch 17/50\n",
      "60000/60000 [==============================] - 6s 93us/sample - loss: 0.0173 - acc: 0.9954\n"
     ]
    },
    {
     "data": {
      "text/plain": [
       "<tensorflow.python.keras.callbacks.History at 0x2e1be9360c8>"
      ]
     },
     "execution_count": 10,
     "metadata": {},
     "output_type": "execute_result"
    }
   ],
   "source": [
    "batch_size = 32\n",
    "es = EarlyStopping(monitor='loss', patience=2, restore_best_weights=True)\n",
    "callbacks = [es]\n",
    "model.fit(x_train,y_train,epochs=50, batch_size=batch_size, callbacks=callbacks)"
   ]
  },
  {
   "cell_type": "code",
   "execution_count": 11,
   "metadata": {},
   "outputs": [
    {
     "name": "stdout",
     "output_type": "stream",
     "text": [
      "10000/10000 [==============================] - 1s 77us/sample - loss: 0.1170 - acc: 0.9780\n"
     ]
    },
    {
     "data": {
      "text/plain": [
       "[0.11699080231709859, 0.978]"
      ]
     },
     "execution_count": 11,
     "metadata": {},
     "output_type": "execute_result"
    }
   ],
   "source": [
    "model.evaluate(x_test,y_test)"
   ]
  },
  {
   "cell_type": "code",
   "execution_count": 12,
   "metadata": {},
   "outputs": [
    {
     "name": "stdout",
     "output_type": "stream",
     "text": [
      "[7 2 1 ... 4 5 6]\n"
     ]
    },
    {
     "data": {
      "image/png": "[encoded data removed]",
      "text/plain": [
       "<Figure size 648x504 with 2 Axes>"
      ]
     },
     "metadata": {
      "needs_background": "light"
     },
     "output_type": "display_data"
    }
   ],
   "source": [
    "y_pred = model.predict(x_test)\n",
    "y_pred = np.argmax(y_pred, axis=1)\n",
    "print(y_pred)\n",
    "#tensorflow.confusion_matrix(y_test,y_pred)\n",
    "cfm_plot(y_test,y_pred)"
   ]
  },
  {
   "cell_type": "code",
   "execution_count": 13,
   "metadata": {},
   "outputs": [
    {
     "name": "stdout",
     "output_type": "stream",
     "text": [
      "0.5544\n"
     ]
    },
    {
     "data": {
      "image/png": "[encoded data removed]",
      "text/plain": [
       "<Figure size 648x504 with 2 Axes>"
      ]
     },
     "metadata": {
      "needs_background": "light"
     },
     "output_type": "display_data"
    }
   ],
   "source": [
    "nb = GaussianNB()\n",
    "nb.fit(x_train,y_train)\n",
    "y_pred = nb.predict(x_test)\n",
    "print(accuracy_score(y_test,y_pred))\n",
    "cfm_plot(y_test,y_pred)"
   ]
  },
  {
   "cell_type": "code",
   "execution_count": 14,
   "metadata": {},
   "outputs": [
    {
     "name": "stdout",
     "output_type": "stream",
     "text": [
      "0.9615\n"
     ]
    },
    {
     "data": {
      "image/png": "[encoded data removed]",
      "text/plain": [
       "<Figure size 648x504 with 2 Axes>"
      ]
     },
     "metadata": {
      "needs_background": "light"
     },
     "output_type": "display_data"
    }
   ],
   "source": [
    "rf = RandomForestClassifier(n_estimators=20)\n",
    "rf.fit(x_train,y_train)\n",
    "y_pred = rf.predict(x_test)\n",
    "print(accuracy_score(y_test,y_pred))\n",
    "cfm_plot(y_test,y_pred)"
   ]
  },
  {
   "cell_type": "code",
   "execution_count": 3,
   "metadata": {},
   "outputs": [
    {
     "data": {
      "text/html": [
       "<div>\n",
       "<style scoped>\n",
       "    .dataframe tbody tr th:only-of-type {\n",
       "        vertical-align: middle;\n",
       "    }\n",
       "\n",
       "    .dataframe tbody tr th {\n",
       "        vertical-align: top;\n",
       "    }\n",
       "\n",
       "    .dataframe thead th {\n",
       "        text-align: right;\n",
       "    }\n",
       "</style>\n",
       "<table border=\"1\" class=\"dataframe\">\n",
       "  <thead>\n",
       "    <tr style=\"text-align: right;\">\n",
       "      <th></th>\n",
       "      <th>age</th>\n",
       "      <th>sex</th>\n",
       "      <th>cp</th>\n",
       "      <th>trestbps</th>\n",
       "      <th>chol</th>\n",
       "      <th>fbs</th>\n",
       "      <th>restecg</th>\n",
       "      <th>thalach</th>\n",
       "      <th>exang</th>\n",
       "      <th>oldpeak</th>\n",
       "      <th>slope</th>\n",
       "      <th>ca</th>\n",
       "      <th>thal</th>\n",
       "      <th>target</th>\n",
       "    </tr>\n",
       "  </thead>\n",
       "  <tbody>\n",
       "    <tr>\n",
       "      <td>0</td>\n",
       "      <td>52</td>\n",
       "      <td>1</td>\n",
       "      <td>0</td>\n",
       "      <td>125</td>\n",
       "      <td>212</td>\n",
       "      <td>0</td>\n",
       "      <td>1</td>\n",
       "      <td>168</td>\n",
       "      <td>0</td>\n",
       "      <td>1.0</td>\n",
       "      <td>2</td>\n",
       "      <td>2</td>\n",
       "      <td>3</td>\n",
       "      <td>0</td>\n",
       "    </tr>\n",
       "    <tr>\n",
       "      <td>1</td>\n",
       "      <td>53</td>\n",
       "      <td>1</td>\n",
       "      <td>0</td>\n",
       "      <td>140</td>\n",
       "      <td>203</td>\n",
       "      <td>1</td>\n",
       "      <td>0</td>\n",
       "      <td>155</td>\n",
       "      <td>1</td>\n",
       "      <td>3.1</td>\n",
       "      <td>0</td>\n",
       "      <td>0</td>\n",
       "      <td>3</td>\n",
       "      <td>0</td>\n",
       "    </tr>\n",
       "    <tr>\n",
       "      <td>2</td>\n",
       "      <td>70</td>\n",
       "      <td>1</td>\n",
       "      <td>0</td>\n",
       "      <td>145</td>\n",
       "      <td>174</td>\n",
       "      <td>0</td>\n",
       "      <td>1</td>\n",
       "      <td>125</td>\n",
       "      <td>1</td>\n",
       "      <td>2.6</td>\n",
       "      <td>0</td>\n",
       "      <td>0</td>\n",
       "      <td>3</td>\n",
       "      <td>0</td>\n",
       "    </tr>\n",
       "    <tr>\n",
       "      <td>3</td>\n",
       "      <td>61</td>\n",
       "      <td>1</td>\n",
       "      <td>0</td>\n",
       "      <td>148</td>\n",
       "      <td>203</td>\n",
       "      <td>0</td>\n",
       "      <td>1</td>\n",
       "      <td>161</td>\n",
       "      <td>0</td>\n",
       "      <td>0.0</td>\n",
       "      <td>2</td>\n",
       "      <td>1</td>\n",
       "      <td>3</td>\n",
       "      <td>0</td>\n",
       "    </tr>\n",
       "    <tr>\n",
       "      <td>4</td>\n",
       "      <td>62</td>\n",
       "      <td>0</td>\n",
       "      <td>0</td>\n",
       "      <td>138</td>\n",
       "      <td>294</td>\n",
       "      <td>1</td>\n",
       "      <td>1</td>\n",
       "      <td>106</td>\n",
       "      <td>0</td>\n",
       "      <td>1.9</td>\n",
       "      <td>1</td>\n",
       "      <td>3</td>\n",
       "      <td>2</td>\n",
       "      <td>0</td>\n",
       "    </tr>\n",
       "    <tr>\n",
       "      <td>...</td>\n",
       "      <td>...</td>\n",
       "      <td>...</td>\n",
       "      <td>...</td>\n",
       "      <td>...</td>\n",
       "      <td>...</td>\n",
       "      <td>...</td>\n",
       "      <td>...</td>\n",
       "      <td>...</td>\n",
       "      <td>...</td>\n",
       "      <td>...</td>\n",
       "      <td>...</td>\n",
       "      <td>...</td>\n",
       "      <td>...</td>\n",
       "      <td>...</td>\n",
       "    </tr>\n",
       "    <tr>\n",
       "      <td>1020</td>\n",
       "      <td>59</td>\n",
       "      <td>1</td>\n",
       "      <td>1</td>\n",
       "      <td>140</td>\n",
       "      <td>221</td>\n",
       "      <td>0</td>\n",
       "      <td>1</td>\n",
       "      <td>164</td>\n",
       "      <td>1</td>\n",
       "      <td>0.0</td>\n",
       "      <td>2</td>\n",
       "      <td>0</td>\n",
       "      <td>2</td>\n",
       "      <td>1</td>\n",
       "    </tr>\n",
       "    <tr>\n",
       "      <td>1021</td>\n",
       "      <td>60</td>\n",
       "      <td>1</td>\n",
       "      <td>0</td>\n",
       "      <td>125</td>\n",
       "      <td>258</td>\n",
       "      <td>0</td>\n",
       "      <td>0</td>\n",
       "      <td>141</td>\n",
       "      <td>1</td>\n",
       "      <td>2.8</td>\n",
       "      <td>1</td>\n",
       "      <td>1</td>\n",
       "      <td>3</td>\n",
       "      <td>0</td>\n",
       "    </tr>\n",
       "    <tr>\n",
       "      <td>1022</td>\n",
       "      <td>47</td>\n",
       "      <td>1</td>\n",
       "      <td>0</td>\n",
       "      <td>110</td>\n",
       "      <td>275</td>\n",
       "      <td>0</td>\n",
       "      <td>0</td>\n",
       "      <td>118</td>\n",
       "      <td>1</td>\n",
       "      <td>1.0</td>\n",
       "      <td>1</td>\n",
       "      <td>1</td>\n",
       "      <td>2</td>\n",
       "      <td>0</td>\n",
       "    </tr>\n",
       "    <tr>\n",
       "      <td>1023</td>\n",
       "      <td>50</td>\n",
       "      <td>0</td>\n",
       "      <td>0</td>\n",
       "      <td>110</td>\n",
       "      <td>254</td>\n",
       "      <td>0</td>\n",
       "      <td>0</td>\n",
       "      <td>159</td>\n",
       "      <td>0</td>\n",
       "      <td>0.0</td>\n",
       "      <td>2</td>\n",
       "      <td>0</td>\n",
       "      <td>2</td>\n",
       "      <td>1</td>\n",
       "    </tr>\n",
       "    <tr>\n",
       "      <td>1024</td>\n",
       "      <td>54</td>\n",
       "      <td>1</td>\n",
       "      <td>0</td>\n",
       "      <td>120</td>\n",
       "      <td>188</td>\n",
       "      <td>0</td>\n",
       "      <td>1</td>\n",
       "      <td>113</td>\n",
       "      <td>0</td>\n",
       "      <td>1.4</td>\n",
       "      <td>1</td>\n",
       "      <td>1</td>\n",
       "      <td>3</td>\n",
       "      <td>0</td>\n",
       "    </tr>\n",
       "  </tbody>\n",
       "</table>\n",
       "<p>1025 rows × 14 columns</p>\n",
       "</div>"
      ],
      "text/plain": [
       "      age  sex  cp  trestbps  chol  fbs  restecg  thalach  exang  oldpeak  \\\n",
       "0      52    1   0       125   212    0        1      168      0      1.0   \n",
       "1      53    1   0       140   203    1        0      155      1      3.1   \n",
       "2      70    1   0       145   174    0        1      125      1      2.6   \n",
       "3      61    1   0       148   203    0        1      161      0      0.0   \n",
       "4      62    0   0       138   294    1        1      106      0      1.9   \n",
       "...   ...  ...  ..       ...   ...  ...      ...      ...    ...      ...   \n",
       "1020   59    1   1       140   221    0        1      164      1      0.0   \n",
       "1021   60    1   0       125   258    0        0      141      1      2.8   \n",
       "1022   47    1   0       110   275    0        0      118      1      1.0   \n",
       "1023   50    0   0       110   254    0        0      159      0      0.0   \n",
       "1024   54    1   0       120   188    0        1      113      0      1.4   \n",
       "\n",
       "      slope  ca  thal  target  \n",
       "0         2   2     3       0  \n",
       "1         0   0     3       0  \n",
       "2         0   0     3       0  \n",
       "3         2   1     3       0  \n",
       "4         1   3     2       0  \n",
       "...     ...  ..   ...     ...  \n",
       "1020      2   0     2       1  \n",
       "1021      1   1     3       0  \n",
       "1022      1   1     2       0  \n",
       "1023      2   0     2       1  \n",
       "1024      1   1     3       0  \n",
       "\n",
       "[1025 rows x 14 columns]"
      ]
     },
     "execution_count": 3,
     "metadata": {},
     "output_type": "execute_result"
    }
   ],
   "source": [
    "df = pd.read_csv('heart.csv')\n",
    "df"
   ]
  },
  {
   "cell_type": "code",
   "execution_count": 4,
   "metadata": {},
   "outputs": [
    {
     "data": {
      "text/html": [
       "<div>\n",
       "<style scoped>\n",
       "    .dataframe tbody tr th:only-of-type {\n",
       "        vertical-align: middle;\n",
       "    }\n",
       "\n",
       "    .dataframe tbody tr th {\n",
       "        vertical-align: top;\n",
       "    }\n",
       "\n",
       "    .dataframe thead th {\n",
       "        text-align: right;\n",
       "    }\n",
       "</style>\n",
       "<table border=\"1\" class=\"dataframe\">\n",
       "  <thead>\n",
       "    <tr style=\"text-align: right;\">\n",
       "      <th></th>\n",
       "      <th>target</th>\n",
       "    </tr>\n",
       "  </thead>\n",
       "  <tbody>\n",
       "    <tr>\n",
       "      <td>0</td>\n",
       "      <td>0</td>\n",
       "    </tr>\n",
       "    <tr>\n",
       "      <td>1</td>\n",
       "      <td>0</td>\n",
       "    </tr>\n",
       "    <tr>\n",
       "      <td>2</td>\n",
       "      <td>0</td>\n",
       "    </tr>\n",
       "    <tr>\n",
       "      <td>3</td>\n",
       "      <td>0</td>\n",
       "    </tr>\n",
       "    <tr>\n",
       "      <td>4</td>\n",
       "      <td>0</td>\n",
       "    </tr>\n",
       "    <tr>\n",
       "      <td>...</td>\n",
       "      <td>...</td>\n",
       "    </tr>\n",
       "    <tr>\n",
       "      <td>1020</td>\n",
       "      <td>1</td>\n",
       "    </tr>\n",
       "    <tr>\n",
       "      <td>1021</td>\n",
       "      <td>0</td>\n",
       "    </tr>\n",
       "    <tr>\n",
       "      <td>1022</td>\n",
       "      <td>0</td>\n",
       "    </tr>\n",
       "    <tr>\n",
       "      <td>1023</td>\n",
       "      <td>1</td>\n",
       "    </tr>\n",
       "    <tr>\n",
       "      <td>1024</td>\n",
       "      <td>0</td>\n",
       "    </tr>\n",
       "  </tbody>\n",
       "</table>\n",
       "<p>1025 rows × 1 columns</p>\n",
       "</div>"
      ],
      "text/plain": [
       "      target\n",
       "0          0\n",
       "1          0\n",
       "2          0\n",
       "3          0\n",
       "4          0\n",
       "...      ...\n",
       "1020       1\n",
       "1021       0\n",
       "1022       0\n",
       "1023       1\n",
       "1024       0\n",
       "\n",
       "[1025 rows x 1 columns]"
      ]
     },
     "execution_count": 4,
     "metadata": {},
     "output_type": "execute_result"
    }
   ],
   "source": [
    "x = df.iloc[:,:-1]\n",
    "y = df.iloc[:,-1:]\n",
    "y "
   ]
  },
  {
   "cell_type": "code",
   "execution_count": 19,
   "metadata": {},
   "outputs": [],
   "source": [
    "x_train, x_test, y_train, y_test = train_test_split(x, y, test_size=0.3, random_state=42)"
   ]
  },
  {
   "cell_type": "code",
   "execution_count": 20,
   "metadata": {},
   "outputs": [],
   "source": [
    "scaler = MinMaxScaler()\n",
    "x_train = scaler.fit_transform(x_train)\n",
    "x_test = scaler.transform(x_test)"
   ]
  },
  {
   "cell_type": "code",
   "execution_count": 21,
   "metadata": {},
   "outputs": [
    {
     "data": {
      "text/plain": [
       "<matplotlib.axes._subplots.AxesSubplot at 0x13799778308>"
      ]
     },
     "execution_count": 21,
     "metadata": {},
     "output_type": "execute_result"
    },
    {
     "data": {
      "image/png": "[encoded data removed]",
      "text/plain": [
       "<Figure size 432x288 with 1 Axes>"
      ]
     },
     "metadata": {
      "needs_background": "light"
     },
     "output_type": "display_data"
    }
   ],
   "source": [
    "df.plot.scatter(x='age', y='target')"
   ]
  },
  {
   "cell_type": "code",
   "execution_count": 22,
   "metadata": {},
   "outputs": [],
   "source": [
    "sb = SelectKBest()\n",
    "x_train = sb.fit_transform(x_train,y_train.values.ravel())\n",
    "x_test = sb.transform(x_test)"
   ]
  },
  {
   "cell_type": "code",
   "execution_count": 26,
   "metadata": {},
   "outputs": [
    {
     "data": {
      "text/plain": [
       "array([ True,  True,  True, False,  True, False, False,  True,  True,\n",
       "        True,  True,  True,  True])"
      ]
     },
     "execution_count": 26,
     "metadata": {},
     "output_type": "execute_result"
    }
   ],
   "source": [
    "sb.get_support()"
   ]
  },
  {
   "cell_type": "code",
   "execution_count": 82,
   "metadata": {},
   "outputs": [],
   "source": [
    "model = Sequential()\n",
    "\n",
    "model.add(Dense(10, activation='relu', input_shape=(10,)))\n",
    "model.add(Dense(8, activation='relu'))\n",
    "model.add(Dense(4, activation='relu'))\n",
    "model.add(Dense(2, activation='softmax'))\n",
    "\n",
    "model.compile(loss='sparse_categorical_crossentropy', optimizer='adam', metrics=['acc'])"
   ]
  },
  {
   "cell_type": "code",
   "execution_count": 83,
   "metadata": {},
   "outputs": [
    {
     "name": "stdout",
     "output_type": "stream",
     "text": [
      "Train on 717 samples\n",
      "Epoch 1/50\n",
      "717/717 [==============================] - 0s 525us/sample - loss: 0.7687 - acc: 0.4505\n",
      "Epoch 2/50\n",
      "717/717 [==============================] - 0s 103us/sample - loss: 0.7209 - acc: 0.4324\n",
      "Epoch 3/50\n",
      "717/717 [==============================] - 0s 97us/sample - loss: 0.6946 - acc: 0.5160\n",
      "Epoch 4/50\n",
      "717/717 [==============================] - 0s 106us/sample - loss: 0.6739 - acc: 0.6904\n",
      "Epoch 5/50\n",
      "717/717 [==============================] - 0s 110us/sample - loss: 0.6595 - acc: 0.7727\n",
      "Epoch 6/50\n",
      "717/717 [==============================] - 0s 99us/sample - loss: 0.6440 - acc: 0.8145\n",
      "Epoch 7/50\n",
      "717/717 [==============================] - 0s 99us/sample - loss: 0.6269 - acc: 0.8354\n",
      "Epoch 8/50\n",
      "717/717 [==============================] - 0s 104us/sample - loss: 0.6071 - acc: 0.8312\n",
      "Epoch 9/50\n",
      "717/717 [==============================] - 0s 102us/sample - loss: 0.5856 - acc: 0.8326\n",
      "Epoch 10/50\n",
      "717/717 [==============================] - 0s 103us/sample - loss: 0.5603 - acc: 0.8410\n",
      "Epoch 11/50\n",
      "717/717 [==============================] - 0s 97us/sample - loss: 0.5356 - acc: 0.8424\n",
      "Epoch 12/50\n",
      "717/717 [==============================] - 0s 100us/sample - loss: 0.5084 - acc: 0.8424\n",
      "Epoch 13/50\n",
      "717/717 [==============================] - 0s 99us/sample - loss: 0.4814 - acc: 0.8368\n",
      "Epoch 14/50\n",
      "717/717 [==============================] - 0s 103us/sample - loss: 0.4543 - acc: 0.8452\n",
      "Epoch 15/50\n",
      "717/717 [==============================] - 0s 100us/sample - loss: 0.4309 - acc: 0.8382\n",
      "Epoch 16/50\n",
      "717/717 [==============================] - 0s 100us/sample - loss: 0.4134 - acc: 0.8438\n",
      "Epoch 17/50\n",
      "717/717 [==============================] - 0s 102us/sample - loss: 0.3972 - acc: 0.8452\n",
      "Epoch 18/50\n",
      "717/717 [==============================] - 0s 100us/sample - loss: 0.3824 - acc: 0.8550\n",
      "Epoch 19/50\n",
      "717/717 [==============================] - 0s 102us/sample - loss: 0.3753 - acc: 0.8522\n",
      "Epoch 20/50\n",
      "717/717 [==============================] - 0s 111us/sample - loss: 0.3676 - acc: 0.8647\n",
      "Epoch 21/50\n",
      "717/717 [==============================] - 0s 117us/sample - loss: 0.3633 - acc: 0.8577\n",
      "Epoch 22/50\n",
      "717/717 [==============================] - 0s 104us/sample - loss: 0.3594 - acc: 0.8647\n",
      "Epoch 23/50\n",
      "717/717 [==============================] - 0s 102us/sample - loss: 0.3547 - acc: 0.8717\n",
      "Epoch 24/50\n",
      "717/717 [==============================] - 0s 104us/sample - loss: 0.3518 - acc: 0.8703\n",
      "Epoch 25/50\n",
      "717/717 [==============================] - 0s 110us/sample - loss: 0.3508 - acc: 0.8717\n",
      "Epoch 26/50\n",
      "717/717 [==============================] - 0s 96us/sample - loss: 0.3468 - acc: 0.8647\n",
      "Epoch 27/50\n",
      "717/717 [==============================] - 0s 102us/sample - loss: 0.3437 - acc: 0.8647\n",
      "Epoch 28/50\n",
      "717/717 [==============================] - 0s 110us/sample - loss: 0.3420 - acc: 0.8731\n",
      "Epoch 29/50\n",
      "717/717 [==============================] - 0s 111us/sample - loss: 0.3389 - acc: 0.8731\n",
      "Epoch 30/50\n",
      "717/717 [==============================] - 0s 115us/sample - loss: 0.3393 - acc: 0.8773\n",
      "Epoch 31/50\n",
      "717/717 [==============================] - 0s 100us/sample - loss: 0.3353 - acc: 0.8731\n",
      "Epoch 32/50\n",
      "717/717 [==============================] - 0s 115us/sample - loss: 0.3336 - acc: 0.8773\n",
      "Epoch 33/50\n",
      "717/717 [==============================] - 0s 124us/sample - loss: 0.3310 - acc: 0.8787\n",
      "Epoch 34/50\n",
      "717/717 [==============================] - 0s 124us/sample - loss: 0.3299 - acc: 0.8828\n",
      "Epoch 35/50\n",
      "717/717 [==============================] - 0s 113us/sample - loss: 0.3257 - acc: 0.8787\n",
      "Epoch 36/50\n",
      "717/717 [==============================] - 0s 116us/sample - loss: 0.3266 - acc: 0.8773\n",
      "Epoch 37/50\n",
      "717/717 [==============================] - 0s 114us/sample - loss: 0.3236 - acc: 0.8759\n",
      "Epoch 38/50\n",
      "717/717 [==============================] - 0s 130us/sample - loss: 0.3218 - acc: 0.8773\n",
      "Epoch 39/50\n",
      "717/717 [==============================] - 0s 131us/sample - loss: 0.3201 - acc: 0.8759\n",
      "Epoch 40/50\n",
      "717/717 [==============================] - 0s 155us/sample - loss: 0.3176 - acc: 0.8759\n",
      "Epoch 41/50\n",
      "717/717 [==============================] - 0s 139us/sample - loss: 0.3157 - acc: 0.8828\n",
      "Epoch 42/50\n",
      "717/717 [==============================] - 0s 122us/sample - loss: 0.3127 - acc: 0.8828\n",
      "Epoch 43/50\n",
      "717/717 [==============================] - 0s 131us/sample - loss: 0.3140 - acc: 0.8787\n",
      "Epoch 44/50\n",
      "717/717 [==============================] - 0s 152us/sample - loss: 0.3102 - acc: 0.8828\n",
      "Epoch 45/50\n",
      "717/717 [==============================] - 0s 132us/sample - loss: 0.3083 - acc: 0.8787\n",
      "Epoch 46/50\n",
      "717/717 [==============================] - 0s 121us/sample - loss: 0.3081 - acc: 0.8828\n",
      "Epoch 47/50\n",
      "717/717 [==============================] - 0s 132us/sample - loss: 0.3052 - acc: 0.8815\n",
      "Epoch 48/50\n",
      "717/717 [==============================] - 0s 132us/sample - loss: 0.3088 - acc: 0.8787\n",
      "Epoch 49/50\n",
      "717/717 [==============================] - 0s 144us/sample - loss: 0.3054 - acc: 0.8856\n"
     ]
    },
    {
     "data": {
      "text/plain": [
       "<tensorflow.python.keras.callbacks.History at 0x1380e08e188>"
      ]
     },
     "execution_count": 83,
     "metadata": {},
     "output_type": "execute_result"
    }
   ],
   "source": [
    "batch_size = 32\n",
    "es = EarlyStopping(monitor='loss', patience=2, restore_best_weights=True)\n",
    "callbacks = [es]\n",
    "model.fit(x_train,y_train,epochs=50, batch_size=batch_size, callbacks=callbacks)"
   ]
  },
  {
   "cell_type": "code",
   "execution_count": 84,
   "metadata": {},
   "outputs": [
    {
     "name": "stdout",
     "output_type": "stream",
     "text": [
      "308/308 [==============================] - 0s 677us/sample - loss: 0.3654 - acc: 0.8247\n"
     ]
    },
    {
     "data": {
      "text/plain": [
       "[0.36538171845597106, 0.8246753]"
      ]
     },
     "execution_count": 84,
     "metadata": {},
     "output_type": "execute_result"
    }
   ],
   "source": [
    "model.evaluate(x_test,y_test)"
   ]
  },
  {
   "cell_type": "code",
   "execution_count": 86,
   "metadata": {},
   "outputs": [
    {
     "name": "stdout",
     "output_type": "stream",
     "text": [
      "acc= 0.82\n",
      "precision= 0.79\n",
      "[[124  35]\n",
      " [ 19 130]]\n"
     ]
    },
    {
     "data": {
      "image/png": "[encoded data removed]",
      "text/plain": [
       "<Figure size 432x432 with 2 Axes>"
      ]
     },
     "metadata": {
      "needs_background": "light"
     },
     "output_type": "display_data"
    }
   ],
   "source": [
    "y_pred = model.predict(x_test)\n",
    "y_pred = np.argmax(y_pred, axis=1)\n",
    "print('acc=',round(accuracy_score(y_test,y_pred),2))\n",
    "print('precision=',round(precision_score(y_test,y_pred),2))\n",
    "print(confusion_matrix(y_test,y_pred))\n",
    "cfm_plot(y_test,y_pred)"
   ]
  },
  {
   "cell_type": "code",
   "execution_count": 52,
   "metadata": {},
   "outputs": [
    {
     "name": "stdout",
     "output_type": "stream",
     "text": [
      "acc= 0.8\n",
      "precision= 0.76\n",
      "[[119  40]\n",
      " [ 22 127]]\n"
     ]
    },
    {
     "data": {
      "image/png": "[encoded data removed]",
      "text/plain": [
       "<Figure size 432x432 with 2 Axes>"
      ]
     },
     "metadata": {
      "needs_background": "light"
     },
     "output_type": "display_data"
    }
   ],
   "source": [
    "nb = GaussianNB()\n",
    "nb.fit(x_train,y_train.values.ravel())\n",
    "y_pred = nb.predict(x_test)\n",
    "print('acc=',round(accuracy_score(y_test,y_pred),2))\n",
    "print('precision=',round(precision_score(y_test,y_pred),2))\n",
    "print(confusion_matrix(y_test,y_pred))\n",
    "cfm_plot(y_test,y_pred)"
   ]
  },
  {
   "cell_type": "code",
   "execution_count": 58,
   "metadata": {},
   "outputs": [
    {
     "name": "stdout",
     "output_type": "stream",
     "text": [
      "acc= 0.98\n",
      "precision= 1.0\n",
      "[[159   0]\n",
      " [  6 143]]\n"
     ]
    },
    {
     "data": {
      "image/png": "[encoded data removed]",
      "text/plain": [
       "<Figure size 432x432 with 2 Axes>"
      ]
     },
     "metadata": {
      "needs_background": "light"
     },
     "output_type": "display_data"
    }
   ],
   "source": [
    "rf = RandomForestClassifier(n_estimators=20)\n",
    "rf.fit(x_train,y_train.values.ravel())\n",
    "y_pred = rf.predict(x_test)\n",
    "print('acc=',round(accuracy_score(y_test,y_pred),2))\n",
    "print('precision=',round(precision_score(y_test,y_pred),2))\n",
    "print(confusion_matrix(y_test,y_pred))\n",
    "cfm_plot(y_test,y_pred)"
   ]
  },
  {
   "cell_type": "code",
   "execution_count": null,
   "metadata": {},
   "outputs": [],
   "source": []
  }
 ],
 "metadata": {
  "kernelspec": {
   "display_name": "Python 3",
   "language": "python",
   "name": "python3"
  },
  "language_info": {
   "codemirror_mode": {
    "name": "ipython",
    "version": 3
   },
   "file_extension": ".py",
   "mimetype": "text/x-python",
   "name": "python",
   "nbconvert_exporter": "python",
   "pygments_lexer": "ipython3",
   "version": "3.7.4"
  }
 },
 "nbformat": 4,
 "nbformat_minor": 4
}
